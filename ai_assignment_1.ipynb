{
  "nbformat": 4,
  "nbformat_minor": 0,
  "metadata": {
    "colab": {
      "provenance": []
    },
    "kernelspec": {
      "name": "python3",
      "display_name": "Python 3"
    },
    "language_info": {
      "name": "python"
    }
  },
  "cells": [
    {
      "cell_type": "code",
      "execution_count": 34,
      "metadata": {
        "colab": {
          "base_uri": "https://localhost:8080/"
        },
        "id": "Zx30gZFu8ZC6",
        "outputId": "63613c3d-200b-4b71-f89e-c9105202aff4"
      },
      "outputs": [
        {
          "output_type": "stream",
          "name": "stdout",
          "text": [
            "Enter the starting range:10\n",
            "Enter the end range: 20\n",
            "Prime numbers in the range 10 to 20 is\n",
            "11 13 17 19 "
          ]
        }
      ],
      "source": [
        "#to print prime numbers within a range\n",
        "def isprime(n):\n",
        "\n",
        "    flag = 0\n",
        "    for j in range(2, i):\n",
        "        if (i % j == 0):\n",
        "            flag = 1\n",
        "            break\n",
        "\n",
        "    if (flag == 0):\n",
        "        print (i, end = ' ')\n",
        "\n",
        "start = int (input(\"Enter the starting range:\"))\n",
        "end= int (input(\"Enter the end range: \"))\n",
        "print (\"Prime numbers in the range\", start, \"to\", end,\"is\")\n",
        "for i in range(start, end+1):\n",
        "  isprime(i)\n"
      ]
    },
    {
      "cell_type": "code",
      "source": [
        "#to check palindrome\n",
        "def ispal(a):\n",
        "   if(a==a[::-1]):\n",
        "    return 1\n",
        "   else:\n",
        "    return 0\n",
        "\n",
        "\n",
        "\n",
        "a=input((\"Enter:\"))\n",
        "if ispal(a):\n",
        "  print(\"Palindrome\")\n",
        "else:\n",
        "    print(\"Not a palindrome\")\n",
        "\n",
        "\n",
        ""
      ],
      "metadata": {
        "colab": {
          "base_uri": "https://localhost:8080/"
        },
        "id": "nq7p4vOYkxXP",
        "outputId": "7fce5df2-4ac5-438c-d3ae-32cd4e141f1e"
      },
      "execution_count": 33,
      "outputs": [
        {
          "output_type": "stream",
          "name": "stdout",
          "text": [
            "Enter:12321\n",
            "The string is a palindrome\n"
          ]
        }
      ]
    },
    {
      "cell_type": "code",
      "source": [
        "#to generate fibonacci\n",
        "def fib(n):\n",
        "    a=0\n",
        "    b=1\n",
        "    for i in range(0,n):\n",
        "      print(a)\n",
        "      c=a+b\n",
        "      a=b\n",
        "      b=c\n",
        "\n",
        "\n",
        "num=int(input(\"enter the number of elements in the fibonacci series\"))\n",
        "fib(num)\n",
        "\n"
      ],
      "metadata": {
        "colab": {
          "base_uri": "https://localhost:8080/"
        },
        "id": "GS8X-AGmmwZm",
        "outputId": "dcf6fdc0-24fd-4be4-dc6d-3ad595b52d98"
      },
      "execution_count": 40,
      "outputs": [
        {
          "output_type": "stream",
          "name": "stdout",
          "text": [
            "enter the number of elements in the fibonacci series8\n",
            "0\n",
            "1\n",
            "1\n",
            "2\n",
            "3\n",
            "5\n",
            "8\n",
            "13\n"
          ]
        }
      ]
    },
    {
      "cell_type": "code",
      "source": [
        "#to create a number guessing game\n",
        "import random\n",
        "num=random.randint(0,100)\n",
        "\n",
        "while True:\n",
        "  a=int(input(\"Guess a number between 0 to 100\\n\"))\n",
        "\n",
        "  if(a==num):\n",
        "    print(\"correct guess\")\n",
        "    break\n",
        "\n",
        "  elif(a>num):\n",
        "     print(\"guess lower\")\n",
        "  else:\n",
        "     print(\"guess higher\")\n",
        "\n",
        "\n",
        "\n"
      ],
      "metadata": {
        "colab": {
          "base_uri": "https://localhost:8080/"
        },
        "id": "nYNrEPCGvAVn",
        "outputId": "8d9f8ff0-4065-49eb-c810-a7591efdbfe6"
      },
      "execution_count": 45,
      "outputs": [
        {
          "output_type": "stream",
          "name": "stdout",
          "text": [
            "Guess a number between 0 to 100\n",
            "5\n",
            "guess higher\n",
            "Guess a number between 0 to 100\n",
            "50\n",
            "guess higher\n",
            "Guess a number between 0 to 100\n",
            "70\n",
            "guess lower\n",
            "Guess a number between 0 to 100\n",
            "65\n",
            "guess lower\n",
            "Guess a number between 0 to 100\n",
            "60\n",
            "guess higher\n",
            "Guess a number between 0 to 100\n",
            "61\n",
            "guess higher\n",
            "Guess a number between 0 to 100\n",
            "62\n",
            "guess higher\n",
            "Guess a number between 0 to 100\n",
            "63\n",
            "guess higher\n",
            "Guess a number between 0 to 100\n",
            "64\n",
            "correct guess\n"
          ]
        }
      ]
    },
    {
      "cell_type": "code",
      "source": [],
      "metadata": {
        "id": "FmCnoc7MwTb0"
      },
      "execution_count": null,
      "outputs": []
    }
  ]
}